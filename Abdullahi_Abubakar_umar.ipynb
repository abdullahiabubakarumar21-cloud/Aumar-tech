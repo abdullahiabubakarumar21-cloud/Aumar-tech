{
  "nbformat": 4,
  "nbformat_minor": 0,
  "metadata": {
    "colab": {
      "provenance": [],
      "authorship_tag": "ABX9TyMf6kcFLy8sS1n+jO9NcWv6",
      "include_colab_link": true
    },
    "kernelspec": {
      "name": "python3",
      "display_name": "Python 3"
    },
    "language_info": {
      "name": "python"
    }
  },
  "cells": [
    {
      "cell_type": "markdown",
      "metadata": {
        "id": "view-in-github",
        "colab_type": "text"
      },
      "source": [
        "<a href=\"https://colab.research.google.com/github/abdullahiabubakarumar21-cloud/Aumar-tech/blob/main/Abdullahi_Abubakar_umar.ipynb\" target=\"_parent\"><img src=\"https://colab.research.google.com/assets/colab-badge.svg\" alt=\"Open In Colab\"/></a>"
      ]
    },
    {
      "cell_type": "markdown",
      "source": [
        "CREATING A FILE"
      ],
      "metadata": {
        "id": "yeslyEjf2QUK"
      }
    },
    {
      "cell_type": "code",
      "execution_count": 5,
      "metadata": {
        "id": "WF5YvwpxwcB3"
      },
      "outputs": [],
      "source": [
        "with open(\"my_name.txt\",\"w\") as file:\n",
        "   file.write(\"Abdullahi Abubakar Umar\")"
      ]
    },
    {
      "cell_type": "markdown",
      "source": [
        "READ FILE"
      ],
      "metadata": {
        "id": "Ftm6CZ2001Ka"
      }
    },
    {
      "cell_type": "code",
      "source": [
        "with open (\"my_name.txt\",\"r\") as file:\n",
        "  content = file.read()\n",
        "  print(\"The content of the file is:\")\n",
        "  print(content)"
      ],
      "metadata": {
        "colab": {
          "base_uri": "https://localhost:8080/"
        },
        "id": "GLx6rSB304qY",
        "outputId": "6d67cba7-2f6f-4507-f130-b80a19989f74"
      },
      "execution_count": 6,
      "outputs": [
        {
          "output_type": "stream",
          "name": "stdout",
          "text": [
            "The content of the file is:\n",
            "Abdullahi Abubakar Umar\n"
          ]
        }
      ]
    },
    {
      "cell_type": "markdown",
      "source": [
        "Question 2"
      ],
      "metadata": {
        "id": "XpzFfbBZ2MNz"
      }
    },
    {
      "cell_type": "code",
      "source": [
        "class Car:\n",
        "    def __init__(self, brand, model, year):\n",
        "        self.brand = brand\n",
        "        self.model = model\n",
        "        self.year = year\n",
        "\n",
        "    def display_info(self):\n",
        "        print(f\"Car Brand: {self.brand}, Model: {self.model}, Year: {self.year}\")\n",
        "\n",
        "# Create two car objects\n",
        "car1 = Car(\"Toyota\", \"Corolla\", 2022)\n",
        "car2 = Car(\"Honda\", \"Civic\", 2025)\n",
        "\n",
        "# Call the display_info method for each car\n",
        "car1.display_info()\n",
        "car2.display_info()"
      ],
      "metadata": {
        "colab": {
          "base_uri": "https://localhost:8080/"
        },
        "id": "FXcoYbUl29Zl",
        "outputId": "8752d2c9-e4ec-40dd-9f5c-101c2966007f"
      },
      "execution_count": 9,
      "outputs": [
        {
          "output_type": "stream",
          "name": "stdout",
          "text": [
            "Car Brand: Toyota, Model: Corolla, Year: 2022\n",
            "Car Brand: Honda, Model: Civic, Year: 2025\n"
          ]
        }
      ]
    }
  ]
}